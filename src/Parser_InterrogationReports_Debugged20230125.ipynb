{
 "cells": [
  {
   "cell_type": "code",
   "execution_count": null,
   "metadata": {},
   "outputs": [],
   "source": [
    "import pandas as pd\n",
    "import numpy as np\n",
    "import os\n",
    "import pathlib\n",
    "import pdfminer\n",
    "from pdfminer.high_level import extract_text\n",
    "from PyPDF2 import PdfFileMerger\n",
    "from datetime import datetime\n",
    "import pathlib\n",
    "\n",
    "from ParserTools import GetFilePaths, MergeFiles, RunParser"
   ]
  },
  {
   "cell_type": "markdown",
   "metadata": {},
   "source": [
    "# User-specified inputs"
   ]
  },
  {
   "cell_type": "code",
   "execution_count": null,
   "metadata": {},
   "outputs": [],
   "source": [
    "patient_id = 'PR05'\n",
    "start, stop = '20240214_0000', '20240215_0000'\n",
    "INDIR = '/userdata/dastudillo/patient_data/tmp/'\n",
    "OUTDIR = '/userdata/dastudillo/patient_data/tmp'"
   ]
  },
  {
   "cell_type": "code",
   "execution_count": null,
   "metadata": {},
   "outputs": [],
   "source": [
    "fn_merged = f'{patient_id}_{start}-{stop}_merged.pdf'\n",
    "fn_parsed = f'{patient_id}_{start}-{stop}_parsed.csv'"
   ]
  },
  {
   "cell_type": "raw",
   "metadata": {},
   "source": [
    "#Get list of files specifying folder path and file format as string\n",
    "def GetFilePaths(FileDirectory, FileFormat):\n",
    "    FileNames = sorted(filter(lambda x: True if FileFormat in x else False, os.listdir(FileDirectory)))\n",
    "    FilePaths = []\n",
    "    for i in range(len(FileNames)):\n",
    "        FilePaths.append(FileDirectory+FileNames[i])\n",
    "    return FilePaths"
   ]
  },
  {
   "cell_type": "code",
   "execution_count": null,
   "metadata": {},
   "outputs": [],
   "source": [
    "input_files = GetFilePaths(INDIR, 'pdf')"
   ]
  },
  {
   "cell_type": "code",
   "execution_count": null,
   "metadata": {},
   "outputs": [],
   "source": [
    "master_file_path = MergeFiles(OUTDIR, input_files, fn_merged)"
   ]
  },
  {
   "cell_type": "code",
   "execution_count": null,
   "metadata": {},
   "outputs": [],
   "source": [
    "tmp_df = RunParser(master_file_path)"
   ]
  },
  {
   "cell_type": "code",
   "execution_count": null,
   "metadata": {},
   "outputs": [],
   "source": [
    "tmp_df"
   ]
  },
  {
   "cell_type": "markdown",
   "metadata": {},
   "source": [
    "# Merge files"
   ]
  },
  {
   "cell_type": "raw",
   "metadata": {},
   "source": [
    "def MergeFiles(FileDirectory, ListOfFiles, NewFileName):\n",
    "    #create and instance of PdfFileMerger() class\n",
    "    merger = PdfFileMerger()\n",
    "    #iterate over the list of file paths\n",
    "    for file in ListOfFiles:\n",
    "        #Append PDF files\n",
    "        merger.append(file)\n",
    "    #write out the merged PDF\n",
    "    outpath = pathlib.Path(FileDirectory, NewFileName)\n",
    "    merger.write(outpath)\n",
    "    merger.close()\n",
    "    return outpath"
   ]
  },
  {
   "cell_type": "markdown",
   "metadata": {},
   "source": [
    "# Extract text"
   ]
  },
  {
   "cell_type": "raw",
   "metadata": {},
   "source": [
    "def RunParser(FilePath):\n",
    "    #Extract all text from pdf \n",
    "    text = extract_text(FilePath)\n",
    "    #Create list with strings\n",
    "    lines = text.split('\\n')\n",
    "\n",
    "    #Select timestamp, duration and type of event \n",
    "    EventTimestamp = [a for a in lines if ('Mon,' in a or 'Tue,' in a or 'Wed,' in a \\\n",
    "                                           or 'Thu,' in a or 'Fri,' in a or 'Sat,' in a or 'Sun,' in a)]\n",
    "    EventDuration = [b for b in lines if ('seconds' in b or 'second' in b)]\n",
    "    EventType = [c for c in lines if ('Pattern A2' in c \\\n",
    "                                   or 'Pattern A1' in c \\\n",
    "                                   or 'Pattern B1' in c \\\n",
    "                                   or 'Pattern B2' in c \\\n",
    "                                   or 'Pattern A1A2' in c \\\n",
    "                                   or 'Pattern B1B2' in c \\\n",
    "                                   or 'Magnet applied' in c)]\n",
    "\n",
    "    #Create list of lists that will be use as input data for final dataframe columns\n",
    "    DataForDf = []\n",
    "    for i in range(len(EventTimestamp)):\n",
    "        DataForDf.append([EventTimestamp[i], EventDuration[i], EventType[i]])\n",
    "\n",
    "    #Create initial dataframe\n",
    "    InitDataFrame = pd.DataFrame(DataForDf, columns = ['EventTimestamp', 'EventDuration', 'EventType'])\n",
    "    #get rid of string so duration is numerical data\n",
    "    InitDataFrame['EventDuration'] = InitDataFrame['EventDuration'].str.replace('seconds','')\n",
    "\n",
    "    #Convert timestamps to datetime object\n",
    "    EventTimestampsList = list(InitDataFrame['EventTimestamp'])\n",
    "    EventDateTimeList =  []\n",
    "    for i in range(len(EventTimestampsList)):\n",
    "        EventDateTimeList.append(datetime.strptime(EventTimestampsList[i], '%a, %b %d, %Y %H:%M:%S'))\n",
    "\n",
    "    #Update timestamps in dataframe\n",
    "    NewDataFrame = InitDataFrame.copy()\n",
    "    del InitDataFrame\n",
    "    NewDataFrame['EventTimestamp'] = EventDateTimeList\n",
    "    NewDataFrame = NewDataFrame.sort_values(by='EventTimestamp').reset_index(drop=True)\n",
    "\n",
    "    #Assign detections for pattern A1\n",
    "    conditionsA1 = [\n",
    "        (NewDataFrame['EventType'].isin([d for d in NewDataFrame['EventType'] if ('Pattern A1 ; 1 Responsive Therapy' in d or 'Pattern A1 ; 1 Responsive Therapy; Insufficient Charge;' in d)])),\n",
    "        (NewDataFrame['EventType'].isin([e for e in NewDataFrame['EventType'] if ('Pattern A1 ; 2 Responsive Therapies' in e or 'Pattern A1 ; 2 Responsive Therapies; Insufficient Charge;' in e)])),\n",
    "        (NewDataFrame['EventType'].isin([f for f in NewDataFrame['EventType'] if ('Pattern A1 ; 3 Responsive Therapies' in f or 'Pattern A1 ; 3 Responsive Therapies; Insufficient Charge;' in f)])),\n",
    "        (NewDataFrame['EventType'].isin([g for g in NewDataFrame['EventType'] if ('Pattern A1 ; 4 Responsive Therapies' in g or 'Pattern A1 ; 4 Responsive Therapies; Insufficient Charge;' in g)])),\n",
    "        (NewDataFrame['EventType'].isin([j for j in NewDataFrame['EventType'] if ('Pattern A1 ; 5 Responsive Therapies' in j or 'Pattern A1 ; 5 Responsive Therapies; Insufficient Charge;' in j)])),\n",
    "        (NewDataFrame['EventType'].isin([k for k in NewDataFrame['EventType'] if ('Pattern A1 Therapy Delivery Inhibited by' in k)])), #will consider events inhibited by cap limit or PEI\n",
    "        (NewDataFrame['EventType'] == 'Magnet applied')]\n",
    "    #Create a list of the values we want to assign for each condition\n",
    "    valuesA1 = ['1', '2', '3', '4', '5', '1', '0']\n",
    "\n",
    "    #Assign detections for pattern A2\n",
    "    conditionsA2 = [\n",
    "        (NewDataFrame['EventType'].isin([d for d in NewDataFrame['EventType'] if ('Pattern A2 ; 1 Responsive Therapy' in d or 'Pattern A2 ; 1 Responsive Therapy; Insufficient Charge;' in d)])),\n",
    "        (NewDataFrame['EventType'].isin([e for e in NewDataFrame['EventType'] if ('Pattern A2 ; 2 Responsive Therapies' in e or 'Pattern A2 ; 2 Responsive Therapies; Insufficient Charge;' in e)])),\n",
    "        (NewDataFrame['EventType'].isin([f for f in NewDataFrame['EventType'] if ('Pattern A2 ; 3 Responsive Therapies' in f or 'Pattern A2 ; 3 Responsive Therapies; Insufficient Charge;' in f)])),\n",
    "        (NewDataFrame['EventType'].isin([g for g in NewDataFrame['EventType'] if ('Pattern A2 ; 4 Responsive Therapies' in g or 'Pattern A2 ; 4 Responsive Therapies; Insufficient Charge;' in g)])),\n",
    "        (NewDataFrame['EventType'].isin([j for j in NewDataFrame['EventType'] if ('Pattern A2 ; 5 Responsive Therapies' in j or 'Pattern A2 ; 5 Responsive Therapies; Insufficient Charge;' in j)])),\n",
    "        (NewDataFrame['EventType'].isin([k for k in NewDataFrame['EventType'] if ('Pattern A2 Therapy Delivery Inhibited by' in k)])),\n",
    "        (NewDataFrame['EventType'] == 'Magnet applied')]\n",
    "    #Create a list of the values we want to assign for each condition\n",
    "    valuesA2 = ['1', '2', '3', '4', '5', '1', '0']\n",
    "\n",
    "    #Assign detections for pattern B1\n",
    "    conditionsB1 = [\n",
    "        (NewDataFrame['EventType'].isin([d for d in NewDataFrame['EventType'] if ('Pattern B1 ; 1 Responsive Therapy' in d or 'Pattern B1 ; 1 Responsive Therapy; Insufficient Charge;' in d)])),\n",
    "        (NewDataFrame['EventType'].isin([e for e in NewDataFrame['EventType'] if ('Pattern B1 ; 2 Responsive Therapies' in e or 'Pattern B1 ; 2 Responsive Therapies; Insufficient Charge;' in e)])),\n",
    "        (NewDataFrame['EventType'].isin([f for f in NewDataFrame['EventType'] if ('Pattern B1 ; 3 Responsive Therapies' in f or 'Pattern B1 ; 3 Responsive Therapies; Insufficient Charge;' in f)])),\n",
    "        (NewDataFrame['EventType'].isin([g for g in NewDataFrame['EventType'] if ('Pattern B1 ; 4 Responsive Therapies' in g or 'Pattern B1 ; 4 Responsive Therapies; Insufficient Charge;' in g)])),\n",
    "        (NewDataFrame['EventType'].isin([j for j in NewDataFrame['EventType'] if ('Pattern B1 ; 5 Responsive Therapies' in j or 'Pattern B1 ; 5 Responsive Therapies; Insufficient Charge;' in j)])),\n",
    "        (NewDataFrame['EventType'].isin([k for k in NewDataFrame['EventType'] if ('Pattern B1 Therapy Delivery Inhibited by' in k)])),\n",
    "        (NewDataFrame['EventType'] == 'Magnet applied')]\n",
    "    #Create a list of the values we want to assign for each condition\n",
    "    valuesB1 = ['1', '2', '3', '4', '5', '1', '0']\n",
    "\n",
    "    #Assign detections for pattern B2\n",
    "    conditionsB2 = [\n",
    "        (NewDataFrame['EventType'].isin([d for d in NewDataFrame['EventType'] if ('Pattern B2 ; 1 Responsive Therapy' in d or 'Pattern B2 ; 1 Responsive Therapy; Insufficient Charge;' in d)])),\n",
    "        (NewDataFrame['EventType'].isin([e for e in NewDataFrame['EventType'] if ('Pattern B2 ; 2 Responsive Therapies' in e or 'Pattern B2 ; 2 Responsive Therapies; Insufficient Charge;' in e)])),\n",
    "        (NewDataFrame['EventType'].isin([f for f in NewDataFrame['EventType'] if ('Pattern B2 ; 3 Responsive Therapies' in f or 'Pattern B2 ; 3 Responsive Therapies; Insufficient Charge;' in f)])),\n",
    "        (NewDataFrame['EventType'].isin([g for g in NewDataFrame['EventType'] if ('Pattern B2 ; 4 Responsive Therapies' in g or 'Pattern B2 ; 4 Responsive Therapies; Insufficient Charge;' in g)])),\n",
    "        (NewDataFrame['EventType'].isin([j for j in NewDataFrame['EventType'] if ('Pattern B2 ; 5 Responsive Therapies' in j or 'Pattern B2 ; 5 Responsive Therapies; Insufficient Charge;' in j)])),\n",
    "        (NewDataFrame['EventType'].isin([k for k in NewDataFrame['EventType'] if ('Pattern B2 Therapy Delivery Inhibited by' in k)])),\n",
    "        (NewDataFrame['EventType'] == 'Magnet applied')]\n",
    "    #Create a list of the values we want to assign for each condition\n",
    "    valuesB2 = ['1', '2', '3', '4', '5', '1', '0']\n",
    "\n",
    "    #Assign therapies count\n",
    "    conditionsT = [\n",
    "        (NewDataFrame['EventType'].isin([x for x in NewDataFrame['EventType'] if ('Pattern A1 ; 1 Responsive Therapy' in x or 'Pattern A1 ; 1 Responsive Therapy; Insufficient Charge;' in x)])),\n",
    "        (NewDataFrame['EventType'].isin([x for x in NewDataFrame['EventType'] if ('Pattern A1 ; 2 Responsive Therapies' in x or 'Pattern A1 ; 2 Responsive Therapies; Insufficient Charge;' in x)])),\n",
    "        (NewDataFrame['EventType'].isin([f for f in NewDataFrame['EventType'] if ('Pattern A1 ; 3 Responsive Therapies' in f or 'Pattern A1 ; 3 Responsive Therapies; Insufficient Charge;' in f)])),\n",
    "        (NewDataFrame['EventType'].isin([g for g in NewDataFrame['EventType'] if ('Pattern A1 ; 4 Responsive Therapies' in g or 'Pattern A1 ; 4 Responsive Therapies; Insufficient Charge;' in g)])),\n",
    "        (NewDataFrame['EventType'].isin([j for j in NewDataFrame['EventType'] if ('Pattern A1 ; 5 Responsive Therapies' in j or 'Pattern A1 ; 5 Responsive Therapies; Insufficient Charge;' in j)])),\n",
    "        (NewDataFrame['EventType'].isin([k for k in NewDataFrame['EventType'] if ('Pattern A1 Therapy Delivery Inhibited by' in k)])),\n",
    "        (NewDataFrame['EventType'].isin([l for l in NewDataFrame['EventType'] if ('Pattern A2 ; 1 Responsive Therapy' in l or 'Pattern A2 ; 1 Responsive Therapy; Insufficient Charge;' in l)])),\n",
    "        (NewDataFrame['EventType'].isin([m for m in NewDataFrame['EventType'] if ('Pattern A2 ; 2 Responsive Therapies' in m or 'Pattern A2 ; 2 Responsive Therapies; Insufficient Charge;' in m)])),\n",
    "        (NewDataFrame['EventType'].isin([n for n in NewDataFrame['EventType'] if ('Pattern A2 ; 3 Responsive Therapies' in n or 'Pattern A2 ; 3 Responsive Therapies; Insufficient Charge;' in n)])),\n",
    "        (NewDataFrame['EventType'].isin([o for o in NewDataFrame['EventType'] if ('Pattern A2 ; 4 Responsive Therapies' in o or 'Pattern A2 ; 4 Responsive Therapies; Insufficient Charge;' in o)])),\n",
    "        (NewDataFrame['EventType'].isin([p for p in NewDataFrame['EventType'] if ('Pattern A2 ; 5 Responsive Therapies' in p or 'Pattern A2 ; 5 Responsive Therapies; Insufficient Charge;' in p)])),\n",
    "        (NewDataFrame['EventType'].isin([q for q in NewDataFrame['EventType'] if ('Pattern A2 Therapy Delivery Inhibited by' in q)])),\n",
    "        (NewDataFrame['EventType'] == 'Magnet applied')]\n",
    "    #Create a list of the values we want to assign for each condition\n",
    "    valuesT = ['1', '2', '3', '4', '5', '0', '1', '2', '3', '4', '5', '0', '0']\n",
    "\n",
    "    #Create a new column and use np.select to assign values to it using our lists as arguments\n",
    "    NewDataFrame['Pattern_A1'] = np.select(conditionsA1, valuesA1)\n",
    "    NewDataFrame['Pattern_A2'] = np.select(conditionsA2, valuesA2)\n",
    "    NewDataFrame['Pattern_B1'] = np.select(conditionsB1, valuesB1)\n",
    "    NewDataFrame['Pattern_B2'] = np.select(conditionsB2, valuesB2)\n",
    "    NewDataFrame['Therapies'] = np.select(conditionsT, valuesT)\n",
    "\n",
    "    FinalDataFrame = NewDataFrame.copy().reset_index(drop=True)\n",
    "    del NewDataFrame\n",
    "    return FinalDataFrame"
   ]
  },
  {
   "cell_type": "raw",
   "metadata": {},
   "source": [
    "#Extract all text from pdf \n",
    "text = extract_text(merged_pdf_path)\n",
    "\n",
    "#Create list with strings\n",
    "lines = text.split('\\n')"
   ]
  },
  {
   "cell_type": "raw",
   "metadata": {},
   "source": [
    "#Select timestamp, duration and type of event \n",
    "\n",
    "EventTimestamp = [a for a in lines if ('Mon,' in a or 'Tue,' in a or 'Wed,' in a or 'Thu,' in a or 'Fri,' in a \n",
    "                                       or 'Sat,' in a or 'Sun,' in a)]\n",
    "\n",
    "EventDuration = [b for b in lines if ('seconds' in b or 'second' in b)]\n",
    "\n",
    "EventType = [c for c in lines if ('Pattern A2' in c \n",
    "                                   or 'Pattern A1' in c\n",
    "                                   or 'Pattern B1' in c\n",
    "                                   or 'Pattern B2' in c\n",
    "                                   or 'Pattern A1A2' in c\n",
    "                                   or 'Pattern B1B2' in c\n",
    "                                   or 'Magnet applied' in c)]"
   ]
  },
  {
   "cell_type": "raw",
   "metadata": {},
   "source": [
    "#Make sure the list sizes coincide otherwise \n",
    "#there might be a missing or additional set of strings (edit cell above to correct)\n",
    "print(len(EventTimestamp));print(len(EventDuration));print(len(EventType))"
   ]
  },
  {
   "cell_type": "markdown",
   "metadata": {},
   "source": [
    "# Create initial df"
   ]
  },
  {
   "cell_type": "raw",
   "metadata": {},
   "source": [
    "#Create list of lists that will be use as input data for final dataframe columns\n",
    "data_for_df = []\n",
    "for i in range(len(EventTimestamp)):\n",
    "    data_for_df.append([EventTimestamp[i], EventDuration[i], EventType[i]])\n",
    "    i+=1    "
   ]
  },
  {
   "cell_type": "raw",
   "metadata": {},
   "source": [
    "#Create initial dataframe\n",
    "to_df = pd.DataFrame(data_for_df, columns = ['EventTimestamp', 'EventDuration', 'EventType'])\n",
    "to_df['EventDuration'] = to_df['EventDuration'].str.replace('seconds','') #get rid of string so duration is numerical data"
   ]
  },
  {
   "cell_type": "raw",
   "metadata": {},
   "source": [
    "#Convert timestamps to datetime object\n",
    "timestamps_list = list(to_df['EventTimestamp'])\n",
    "timestamps_datetime =  []\n",
    "\n",
    "for i in range(len(timestamps_list)):\n",
    "    timestamps_datetime.append(datetime.strptime(timestamps_list[i], '%a, %b %d, %Y %H:%M:%S'))\n",
    "    i+=1\n",
    "\n",
    "#update timestamps in dataframe    \n",
    "to_df['EventTimestamp'] = timestamps_datetime\n",
    "to_df = to_df.sort_values(by='EventTimestamp')"
   ]
  },
  {
   "cell_type": "markdown",
   "metadata": {},
   "source": [
    "# Add detection and stim counts"
   ]
  },
  {
   "cell_type": "raw",
   "metadata": {},
   "source": [
    "parsed_df = to_df.copy()"
   ]
  },
  {
   "cell_type": "raw",
   "metadata": {},
   "source": [
    "#Assign detections for pattern A1\n",
    "\n",
    "conditions = [\n",
    "    (to_df['EventType'].isin([d for d in to_df['EventType'] if ('Pattern A1 ; 1 Responsive Therapy' in d or 'Pattern A1 ; 1 Responsive Therapy; Insufficient Charge;' in d)])),\n",
    "    (to_df['EventType'].isin([e for e in to_df['EventType'] if ('Pattern A1 ; 2 Responsive Therapies' in e or 'Pattern A1 ; 2 Responsive Therapies; Insufficient Charge;' in e)])),\n",
    "    (to_df['EventType'].isin([f for f in to_df['EventType'] if ('Pattern A1 ; 3 Responsive Therapies' in f or 'Pattern A1 ; 3 Responsive Therapies; Insufficient Charge;' in f)])),\n",
    "    (to_df['EventType'].isin([g for g in to_df['EventType'] if ('Pattern A1 ; 4 Responsive Therapies' in g or 'Pattern A1 ; 4 Responsive Therapies; Insufficient Charge;' in g)])),\n",
    "    (to_df['EventType'].isin([j for j in to_df['EventType'] if ('Pattern A1 ; 5 Responsive Therapies' in j or 'Pattern A1 ; 5 Responsive Therapies; Insufficient Charge;' in j)])),\n",
    "    (to_df['EventType'].isin([k for k in to_df['EventType'] if ('Pattern A1 Therapy Delivery Inhibited by' in k)])), #will consider events inhibited by cap limit or PEI\n",
    "    (to_df['EventType'] == 'Magnet applied')\n",
    "    ]\n",
    "\n",
    "# create a list of the values we want to assign for each condition\n",
    "values = ['1', '2', '3', '4', '5', '1', '0']\n",
    "\n",
    "# create a new column and use np.select to assign values to it using our lists as arguments\n",
    "parsed_df['Pattern_A1'] = np.select(conditions, values)"
   ]
  },
  {
   "cell_type": "raw",
   "metadata": {},
   "source": [
    "#Assign detections for pattern A2\n",
    "\n",
    "conditions = [\n",
    "    (to_df['EventType'].isin([d for d in to_df['EventType'] if ('Pattern A2 ; 1 Responsive Therapy' in d or 'Pattern A2 ; 1 Responsive Therapy; Insufficient Charge;' in d)])),\n",
    "    (to_df['EventType'].isin([e for e in to_df['EventType'] if ('Pattern A2 ; 2 Responsive Therapies' in e or 'Pattern A2 ; 2 Responsive Therapies; Insufficient Charge;' in e)])),\n",
    "    (to_df['EventType'].isin([f for f in to_df['EventType'] if ('Pattern A2 ; 3 Responsive Therapies' in f or 'Pattern A2 ; 3 Responsive Therapies; Insufficient Charge;' in f)])),\n",
    "    (to_df['EventType'].isin([g for g in to_df['EventType'] if ('Pattern A2 ; 4 Responsive Therapies' in g or 'Pattern A2 ; 4 Responsive Therapies; Insufficient Charge;' in g)])),\n",
    "    (to_df['EventType'].isin([j for j in to_df['EventType'] if ('Pattern A2 ; 5 Responsive Therapies' in j or 'Pattern A2 ; 5 Responsive Therapies; Insufficient Charge;' in j)])),\n",
    "    (to_df['EventType'].isin([k for k in to_df['EventType'] if ('Pattern A2 Therapy Delivery Inhibited by' in k)])),\n",
    "    (to_df['EventType'] == 'Magnet applied')\n",
    "    ]\n",
    "\n",
    "# create a list of the values we want to assign for each condition\n",
    "values = ['1', '2', '3', '4', '5', '1', '0']\n",
    "\n",
    "# create a new column and use np.select to assign values to it using our lists as arguments\n",
    "parsed_df['Pattern_A2'] = np.select(conditions, values)"
   ]
  },
  {
   "cell_type": "raw",
   "metadata": {},
   "source": [
    "#Assign detections for pattern B1\n",
    "\n",
    "conditions = [\n",
    "    (to_df['EventType'].isin([d for d in to_df['EventType'] if ('Pattern B1 ; 1 Responsive Therapy' in d or 'Pattern B1 ; 1 Responsive Therapy; Insufficient Charge;' in d)])),\n",
    "    (to_df['EventType'].isin([e for e in to_df['EventType'] if ('Pattern B1 ; 2 Responsive Therapies' in e or 'Pattern B1 ; 2 Responsive Therapies; Insufficient Charge;' in e)])),\n",
    "    (to_df['EventType'].isin([f for f in to_df['EventType'] if ('Pattern B1 ; 3 Responsive Therapies' in f or 'Pattern B1 ; 3 Responsive Therapies; Insufficient Charge;' in f)])),\n",
    "    (to_df['EventType'].isin([g for g in to_df['EventType'] if ('Pattern B1 ; 4 Responsive Therapies' in g or 'Pattern B1 ; 4 Responsive Therapies; Insufficient Charge;' in g)])),\n",
    "    (to_df['EventType'].isin([j for j in to_df['EventType'] if ('Pattern B1 ; 5 Responsive Therapies' in j or 'Pattern B1 ; 5 Responsive Therapies; Insufficient Charge;' in j)])),\n",
    "    (to_df['EventType'].isin([k for k in to_df['EventType'] if ('Pattern B1 Therapy Delivery Inhibited by' in k)])),\n",
    "    (to_df['EventType'] == 'Magnet applied')\n",
    "    ]\n",
    "\n",
    "# create a list of the values we want to assign for each condition\n",
    "values = ['1', '2', '3', '4', '5', '1', '0']\n",
    "\n",
    "# create a new column and use np.select to assign values to it using our lists as arguments\n",
    "parsed_df['Pattern_B1'] = np.select(conditions, values)"
   ]
  },
  {
   "cell_type": "raw",
   "metadata": {},
   "source": [
    "#Assign detections for pattern B2\n",
    "\n",
    "conditions = [\n",
    "    (to_df['EventType'].isin([d for d in to_df['EventType'] if ('Pattern B2 ; 1 Responsive Therapy' in d or 'Pattern B2 ; 1 Responsive Therapy; Insufficient Charge;' in d)])),\n",
    "    (to_df['EventType'].isin([e for e in to_df['EventType'] if ('Pattern B2 ; 2 Responsive Therapies' in e or 'Pattern B2 ; 2 Responsive Therapies; Insufficient Charge;' in e)])),\n",
    "    (to_df['EventType'].isin([f for f in to_df['EventType'] if ('Pattern B2 ; 3 Responsive Therapies' in f or 'Pattern B2 ; 3 Responsive Therapies; Insufficient Charge;' in f)])),\n",
    "    (to_df['EventType'].isin([g for g in to_df['EventType'] if ('Pattern B2 ; 4 Responsive Therapies' in g or 'Pattern B2 ; 4 Responsive Therapies; Insufficient Charge;' in g)])),\n",
    "    (to_df['EventType'].isin([j for j in to_df['EventType'] if ('Pattern B2 ; 5 Responsive Therapies' in j or 'Pattern B2 ; 5 Responsive Therapies; Insufficient Charge;' in j)])),\n",
    "    (to_df['EventType'].isin([k for k in to_df['EventType'] if ('Pattern B2 Therapy Delivery Inhibited by' in k)])),\n",
    "    (to_df['EventType'] == 'Magnet applied')\n",
    "    ]\n",
    "\n",
    "# create a list of the values we want to assign for each condition\n",
    "values = ['1', '2', '3', '4', '5', '1', '0']\n",
    "\n",
    "# create a new column and use np.select to assign values to it using our lists as arguments\n",
    "parsed_df['Pattern_B2'] = np.select(conditions, values)"
   ]
  },
  {
   "cell_type": "raw",
   "metadata": {},
   "source": [
    "#Assign therapies count\n",
    "\n",
    "conditions = [\n",
    "        (to_df['EventType'].isin([x for x in to_df['EventType'] if ('Pattern A1 ; 1 Responsive Therapy' in x or 'Pattern A1 ; 1 Responsive Therapy; Insufficient Charge;' in x)])),\n",
    "    (to_df['EventType'].isin([x for x in to_df['EventType'] if ('Pattern A1 ; 2 Responsive Therapies' in x or 'Pattern A1 ; 2 Responsive Therapies; Insufficient Charge;' in x)])),\n",
    "    (to_df['EventType'].isin([f for f in to_df['EventType'] if ('Pattern A1 ; 3 Responsive Therapies' in f or 'Pattern A1 ; 3 Responsive Therapies; Insufficient Charge;' in f)])),\n",
    "    (to_df['EventType'].isin([g for g in to_df['EventType'] if ('Pattern A1 ; 4 Responsive Therapies' in g or 'Pattern A1 ; 4 Responsive Therapies; Insufficient Charge;' in g)])),\n",
    "    (to_df['EventType'].isin([j for j in to_df['EventType'] if ('Pattern A1 ; 5 Responsive Therapies' in j or 'Pattern A1 ; 5 Responsive Therapies; Insufficient Charge;' in j)])),\n",
    "    (to_df['EventType'].isin([k for k in to_df['EventType'] if ('Pattern A1 Therapy Delivery Inhibited by' in k)])),\n",
    "    (to_df['EventType'].isin([l for l in to_df['EventType'] if ('Pattern A2 ; 1 Responsive Therapy' in l or 'Pattern A2 ; 1 Responsive Therapy; Insufficient Charge;' in l)])),\n",
    "    (to_df['EventType'].isin([m for m in to_df['EventType'] if ('Pattern A2 ; 2 Responsive Therapies' in m or 'Pattern A2 ; 2 Responsive Therapies; Insufficient Charge;' in m)])),\n",
    "    (to_df['EventType'].isin([n for n in to_df['EventType'] if ('Pattern A2 ; 3 Responsive Therapies' in n or 'Pattern A2 ; 3 Responsive Therapies; Insufficient Charge;' in n)])),\n",
    "    (to_df['EventType'].isin([o for o in to_df['EventType'] if ('Pattern A2 ; 4 Responsive Therapies' in o or 'Pattern A2 ; 4 Responsive Therapies; Insufficient Charge;' in o)])),\n",
    "    (to_df['EventType'].isin([p for p in to_df['EventType'] if ('Pattern A2 ; 5 Responsive Therapies' in p or 'Pattern A2 ; 5 Responsive Therapies; Insufficient Charge;' in p)])),\n",
    "    (to_df['EventType'].isin([q for q in to_df['EventType'] if ('Pattern A2 Therapy Delivery Inhibited by' in q)])),\n",
    "    (to_df['EventType'] == 'Magnet applied')\n",
    "    ]\n",
    "\n",
    "# create a list of the values we want to assign for each condition\n",
    "values = ['1', '2', '3', '4', '5', '0', '1', '2', '3', '4', '5', '0', '0']\n",
    "\n",
    "# create a new column and use np.select to assign values to it using our lists as arguments\n",
    "parsed_df['Therapies'] = np.select(conditions, values)"
   ]
  },
  {
   "cell_type": "raw",
   "metadata": {},
   "source": [
    "#Check tabulated data\n",
    "parsed_df = parsed_df.reset_index(drop=True)\n",
    "parsed_df"
   ]
  },
  {
   "cell_type": "markdown",
   "metadata": {},
   "source": [
    "# Save final df"
   ]
  },
  {
   "cell_type": "raw",
   "metadata": {},
   "source": [
    "parsed_df.to_csv(f'{OUTDIR}{fn_parsed}')"
   ]
  }
 ],
 "metadata": {
  "kernelspec": {
   "display_name": "Python 3 (ipykernel)",
   "language": "python",
   "name": "python3"
  },
  "language_info": {
   "codemirror_mode": {
    "name": "ipython",
    "version": 3
   },
   "file_extension": ".py",
   "mimetype": "text/x-python",
   "name": "python",
   "nbconvert_exporter": "python",
   "pygments_lexer": "ipython3",
   "version": "3.10.13"
  },
  "toc": {
   "base_numbering": 1,
   "nav_menu": {},
   "number_sections": true,
   "sideBar": true,
   "skip_h1_title": false,
   "title_cell": "Table of Contents",
   "title_sidebar": "Contents",
   "toc_cell": false,
   "toc_position": {
    "height": "calc(100% - 180px)",
    "left": "10px",
    "top": "150px",
    "width": "288px"
   },
   "toc_section_display": true,
   "toc_window_display": true
  }
 },
 "nbformat": 4,
 "nbformat_minor": 4
}
